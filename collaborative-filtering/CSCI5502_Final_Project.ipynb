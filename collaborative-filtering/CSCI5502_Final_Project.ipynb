{
  "nbformat": 4,
  "nbformat_minor": 0,
  "metadata": {
    "colab": {
      "provenance": [],
      "gpuType": "T4"
    },
    "kernelspec": {
      "name": "python3",
      "display_name": "Python 3"
    },
    "language_info": {
      "name": "python"
    },
    "accelerator": "GPU"
  },
  "cells": [
    {
      "cell_type": "code",
      "execution_count": 1,
      "metadata": {
        "id": "E2VXtp-9Nmoj"
      },
      "outputs": [],
      "source": [
        "import os\n",
        "import pandas as pd\n",
        "# import tensorflow_datasets as tfds\n",
        "from google.colab import drive\n",
        "from sklearn.metrics.pairwise import cosine_similarity\n",
        "import pandas as pd\n",
        "from sklearn.model_selection import train_test_split"
      ]
    },
    {
      "cell_type": "code",
      "source": [
        "# Mount your Google Drive to the Colab virtual machine\n",
        "drive.mount('/content/drive')"
      ],
      "metadata": {
        "colab": {
          "base_uri": "https://localhost:8080/"
        },
        "id": "vlReEkH9NuAP",
        "outputId": "a57db087-61db-4647-8fd0-d79e2c29cc18"
      },
      "execution_count": 2,
      "outputs": [
        {
          "output_type": "stream",
          "name": "stdout",
          "text": [
            "Drive already mounted at /content/drive; to attempt to forcibly remount, call drive.mount(\"/content/drive\", force_remount=True).\n"
          ]
        }
      ]
    },
    {
      "cell_type": "code",
      "source": [
        "# change director\n",
        "os.chdir('drive/MyDrive/CSCI5502_dataset')\n",
        "# print\n",
        "!pwd"
      ],
      "metadata": {
        "colab": {
          "base_uri": "https://localhost:8080/"
        },
        "id": "NFf3aql0O5E8",
        "outputId": "f8c17103-1239-440d-b8b1-652d49524a85"
      },
      "execution_count": 3,
      "outputs": [
        {
          "output_type": "stream",
          "name": "stdout",
          "text": [
            "/content/drive/MyDrive/CSCI5502_dataset\n"
          ]
        }
      ]
    },
    {
      "cell_type": "code",
      "source": [
        "import numpy as np\n",
        "import pandas as pd\n",
        "\n",
        "class ItemBasedCollaborativeFiltering:\n",
        "    def __init__(self, k_neighbors=5):\n",
        "        self.k_neighbors = k_neighbors\n",
        "        self.item_similarity = None\n",
        "        self.matrix_mean = None\n",
        "\n",
        "    def preprocess(self, scores_df, courses_df):\n",
        "        scores_df.dropna(axis=0, inplace=True)\n",
        "        courses_df.drop('Prerequisite', axis=1, inplace=True)\n",
        "        courses_df.drop('CourseName', axis=1, inplace=True)\n",
        "        courses_df.dropna(axis=0, inplace=True)\n",
        "\n",
        "        df = pd.merge(scores_df, courses_df, on='CourseId', how='inner')\n",
        "\n",
        "        # Aggregate by score\n",
        "        agg_scores = df.groupby('CourseId').agg(number_of_scores = ('Score', 'count')).reset_index()\n",
        "        # Keep the courses with over 100 scores\n",
        "        agg_scores_GT100 = agg_scores[agg_scores['number_of_scores']>100]\n",
        "\n",
        "        df_GT100 = pd.merge(df, agg_scores_GT100[['CourseId']], on='CourseId', how='inner')\n",
        "        return df_GT100\n",
        "\n",
        "        # pd.DataFrame(cosine_similarity(matrix_norm.fillna(0)), index=matrix_norm.index, columns=matrix_norm.index)\n",
        "\n",
        "\n",
        "    def create_item_user_matrix(self, preprocessed_df):\n",
        "        matrix = preprocessed_df.pivot_table(index='CourseName', columns='StudedntId', values='Score')\n",
        "        # if self.matrix_mean is None:\n",
        "        #     self.matrix_mean = matrix.mean(axis=1)\n",
        "\n",
        "        # matrix_norm = matrix.subtract(self.matrix_mean, axis = 0)\n",
        "        matrix_norm = matrix\n",
        "\n",
        "        return matrix_norm\n",
        "\n",
        "\n",
        "\n",
        "    def fit(self, item_user_matrix):\n",
        "        \"\"\"\n",
        "        Fit the collaborative filtering model using the user-item matrix.\n",
        "\n",
        "        Parameters:\n",
        "        user_item_matrix (pd.DataFrame): The user-item matrix where rows are users, columns are items, and values are ratings.\n",
        "\n",
        "        Returns:\n",
        "        None\n",
        "        \"\"\"\n",
        "        self.item_similarity = self.compute_item_similarity(item_user_matrix)\n",
        "\n",
        "    def predict(self, item_user_matrix):\n",
        "        \"\"\"\n",
        "        Predict missing values in the user-item matrix.\n",
        "\n",
        "        Parameters:\n",
        "        user_item_matrix (pd.DataFrame): The user-item matrix where rows are users, columns are items, and values are ratings.\n",
        "\n",
        "        Returns:\n",
        "        pd.DataFrame: The user-item matrix with missing values predicted using collaborative filtering.\n",
        "        \"\"\"\n",
        "\n",
        "        predicted_ratings = item_user_matrix.copy()\n",
        "\n",
        "        for course, ratings in item_user_matrix.iterrows():\n",
        "            print(\"Making prediction for \", course)\n",
        "            for student_index, rating in ratings.items():\n",
        "                if not pd.isnull(rating):  # Predict missing values only\n",
        "                    predicted_ratings.at[course, student_index] = self.predict_score(item_user_matrix, student_index, course)\n",
        "\n",
        "        return predicted_ratings\n",
        "\n",
        "    def compute_item_similarity(self, user_item_matrix):\n",
        "        item_similarity_cosine = pd.DataFrame(cosine_similarity(user_item_matrix.fillna(0)), index=user_item_matrix.index, columns=user_item_matrix.index)\n",
        "        return item_similarity_cosine\n",
        "\n",
        "    def predict_score(self, item_user_matrix, student_id, course_name):\n",
        "\n",
        "        # courses that the target user has taken\n",
        "        courses_taken = pd.DataFrame(item_user_matrix[student_id].dropna(axis=0, how='all')\\\n",
        "                          .sort_values(ascending=False))\\\n",
        "                          .reset_index()\\\n",
        "                          .rename(columns={student_id:'score'})\n",
        "\n",
        "        # Similarity score of the course_name picked with all the other courses\n",
        "        picked_course_similarity_score = self.item_similarity[[course_name]].reset_index().rename(columns={course_name:'similarity_score'})\n",
        "\n",
        "        # if student has already taken the course, drop it from similarity score\n",
        "        picked_course_similarity_score = picked_course_similarity_score.drop(picked_course_similarity_score[picked_course_similarity_score['CourseName'] == course_name].index)\n",
        "        # print(picked_course_similarity_score.head())\n",
        "\n",
        "        # Rank the similarities between the movies user 1 rated and American Pie.\n",
        "        picked_student_taken_similarity = pd.merge(left=courses_taken,\n",
        "                                                    right=picked_course_similarity_score,\n",
        "                                                    on='CourseName',\n",
        "                                                    how='inner')\\\n",
        "                                            .sort_values('similarity_score', ascending=False)[:self.k_neighbors]\n",
        "\n",
        "        if picked_student_taken_similarity['similarity_score'].sum() != 0:\n",
        "            predicted_rating = round(np.average(picked_student_taken_similarity['score'],\n",
        "                                        weights=picked_student_taken_similarity['similarity_score']), 6)\n",
        "        else:\n",
        "            predicted_rating = 0.0\n",
        "\n",
        "        return predicted_rating\n",
        "\n",
        "\n",
        "    def get_top_similar_items(self, item_index, relevant_items):\n",
        "        \"\"\"\n",
        "        Get the top k similar items for a given item.\n",
        "\n",
        "        Parameters:\n",
        "        item_index (int): The index of the target item.\n",
        "        relevant_items (pd.Series): Series containing the ratings of items rated by the target user.\n",
        "\n",
        "        Returns:\n",
        "        list: A list of the top k similar items.\n",
        "        \"\"\"\n",
        "        similar_items = self.item_similarity.loc[item_index].dropna()\n",
        "        top_similar_items = similar_items.reindex(relevant_items.index).sort_values(ascending=False)\n",
        "        return top_similar_items.index[:self.k_neighbors]"
      ],
      "metadata": {
        "id": "85sSKemKhJdX"
      },
      "execution_count": 68,
      "outputs": []
    },
    {
      "cell_type": "code",
      "source": [
        "scores_df = pd.read_excel('CourseSelectionTable.xlsx')\n",
        "courses_df = pd.read_excel('CourseInformationTable.xlsx')"
      ],
      "metadata": {
        "id": "FkLTWJN2LSnP"
      },
      "execution_count": 69,
      "outputs": []
    },
    {
      "cell_type": "code",
      "source": [
        "collab_filtering = ItemBasedCollaborativeFiltering(k_neighbors=5)\n",
        "preprocessed_df = collab_filtering.preprocess(scores_df, courses_df)"
      ],
      "metadata": {
        "id": "7jtbkhpqOFi2"
      },
      "execution_count": 70,
      "outputs": []
    },
    {
      "cell_type": "code",
      "source": [
        "train_df, test_df = train_test_split(preprocessed_df, test_size=0.2, random_state=42)"
      ],
      "metadata": {
        "id": "vEmJOVDFYD7s"
      },
      "execution_count": 71,
      "outputs": []
    },
    {
      "cell_type": "code",
      "source": [
        "train_matrix = collab_filtering.create_item_user_matrix(train_df)\n",
        "test_matrix = collab_filtering.create_item_user_matrix(test_df)"
      ],
      "metadata": {
        "id": "oiDzSYwNYxq0"
      },
      "execution_count": 72,
      "outputs": []
    },
    {
      "cell_type": "code",
      "source": [
        "train_matrix.shape"
      ],
      "metadata": {
        "colab": {
          "base_uri": "https://localhost:8080/"
        },
        "id": "pAYDpWMraqNT",
        "outputId": "bd6101e0-f75d-41b5-e0ce-236cb0d0de7b"
      },
      "execution_count": 82,
      "outputs": [
        {
          "output_type": "execute_result",
          "data": {
            "text/plain": [
              "(299, 4432)"
            ]
          },
          "metadata": {},
          "execution_count": 82
        }
      ]
    },
    {
      "cell_type": "code",
      "source": [
        "test_matrix.shape"
      ],
      "metadata": {
        "colab": {
          "base_uri": "https://localhost:8080/"
        },
        "id": "0FzWUzU6ar5X",
        "outputId": "fdbc7fee-d1c2-485d-967b-7ad7ccd57696"
      },
      "execution_count": 83,
      "outputs": [
        {
          "output_type": "execute_result",
          "data": {
            "text/plain": [
              "(299, 4004)"
            ]
          },
          "metadata": {},
          "execution_count": 83
        }
      ]
    },
    {
      "cell_type": "code",
      "source": [
        "collab_filtering.fit(train_matrix)"
      ],
      "metadata": {
        "id": "IcrPdaM4Y6LM"
      },
      "execution_count": 73,
      "outputs": []
    },
    {
      "cell_type": "code",
      "source": [
        "student_id = 3\n",
        "# Pick a movie\n",
        "course_name = 'A Survey of Mao Tsetung Thoughts and Theory of Socialism with Chinese Characteristics'\n",
        "\n",
        "score = collab_filtering.predict_score(test_matrix, student_id, course_name)"
      ],
      "metadata": {
        "id": "8CBG6ZCiY6fd"
      },
      "execution_count": 76,
      "outputs": []
    },
    {
      "cell_type": "code",
      "source": [
        "score"
      ],
      "metadata": {
        "colab": {
          "base_uri": "https://localhost:8080/"
        },
        "id": "uBxBERUrY6ld",
        "outputId": "cdf5ea9a-8312-4b30-c6e6-8cf43d35d1c3"
      },
      "execution_count": 77,
      "outputs": [
        {
          "output_type": "execute_result",
          "data": {
            "text/plain": [
              "65.768955"
            ]
          },
          "metadata": {},
          "execution_count": 77
        }
      ]
    },
    {
      "cell_type": "code",
      "source": [
        "preidcted_matrix = collab_filtering.predict(test_matrix)"
      ],
      "metadata": {
        "colab": {
          "base_uri": "https://localhost:8080/"
        },
        "id": "aoz7AwfRY6qe",
        "outputId": "ad727616-7f23-4b2d-c3d6-7d1ee4d2989a"
      },
      "execution_count": 78,
      "outputs": [
        {
          "output_type": "stream",
          "name": "stdout",
          "text": [
            "Making prediction for  A General Survey of World History\n",
            "Making prediction for  A Guide to Chinese Classic\n",
            "Making prediction for  A Survey of Mao Tsetung Thoughts and Theory of Socialism with Chinese Characteristics\n",
            "Making prediction for  A Visual Survey of British and American Culture\n",
            "Making prediction for  Abstract Algebra\n",
            "Making prediction for  Academic English Reading\n",
            "Making prediction for  Academic English Writing\n",
            "Making prediction for  Advanced Algebra (I)\n",
            "Making prediction for  Advanced Algebra (II)\n",
            "Making prediction for  Advanced English Listening and Speaking\n",
            "Making prediction for  Advanced English Reading\n",
            "Making prediction for  Advanced Mathematics (B) (1)\n",
            "Making prediction for  Advanced Mathematics (B) (2)\n",
            "Making prediction for  Advanced Mathematics (C) (I)\n",
            "Making prediction for  Advanced Mathematics (D)\n",
            "Making prediction for  Advanced Oral English\n",
            "Making prediction for  Aerobics\n",
            "Making prediction for  American Short Stories Through Films\n",
            "Making prediction for  An   Introduction   to   Filmology\n",
            "Making prediction for  An Introduction to Ideological & Moral Culture and Laws\n",
            "Making prediction for  An Introduction to Marxist Basic Theory\n",
            "Making prediction for  An Introduction to Microelectronics and Circuits\n",
            "Making prediction for  An Introduction to World Socialism\n",
            "Making prediction for  Ancient  Chinese  Ⅱ\n",
            "Making prediction for  Ancient Chinese Culture\n",
            "Making prediction for  Ancient Chinese History\n",
            "Making prediction for  Ancient Chinese History (Part 2)\n",
            "Making prediction for  Ancient Chinese(1)\n",
            "Making prediction for  Ancient History of China (Part 1)\n",
            "Making prediction for  Apprecition and analysis on Chinese Aforeign famous songs and musicalcompositions\n",
            "Making prediction for  Badminton\n",
            "Making prediction for  Baseball\n",
            "Making prediction for  Basic Physics Lab\n",
            "Making prediction for  Basic training of Electronics system\n",
            "Making prediction for  Basketball\n",
            "Making prediction for  Biochemistry\n",
            "Making prediction for  Biochemistry Lab.\n",
            "Making prediction for  Broadcast News\n",
            "Making prediction for  Business English (1)\n",
            "Making prediction for  Business English (2)\n",
            "Making prediction for  Business English and Communications\n",
            "Making prediction for  Chemistry Information Retrieval\n",
            "Making prediction for  Chemistry Today\n",
            "Making prediction for  China’s Public Finance\n",
            "Making prediction for  Chinese History and Culture in English Context\n",
            "Making prediction for  Chinese Language Studies\n",
            "Making prediction for  Chinese Legal History\n",
            "Making prediction for  Chinese Reference Books\n",
            "Making prediction for  Chinese Shuttlecock\n",
            "Making prediction for  Civil Procedure Law\n",
            "Making prediction for  Classical British and American Poetry and Translation\n",
            "Making prediction for  Classical Kunqu Opera Appreciation\n",
            "Making prediction for  Communication Research Methods\n",
            "Making prediction for  Comprehensive Organic Chemistry\n",
            "Making prediction for  Comprehensive Organic Chemistry Lab.\n",
            "Making prediction for  Constitutional Law\n",
            "Making prediction for  Contemporary Chinese History\n",
            "Making prediction for  Contemporary Chinese Literature\n",
            "Making prediction for  Contemporary International Politics\n",
            "Making prediction for  Corporate Finance\n",
            "Making prediction for  Criminology\n",
            "Making prediction for  Critical Thinking and Academic Writing \n",
            "Making prediction for  Dancesport\n",
            "Making prediction for  Data Analysis and Statistical Software\n",
            "Making prediction for  Data Structure and Algorithm (A)\n",
            "Making prediction for  Data Structure and Algorithm (B)\n",
            "Making prediction for  Demonstration Physics\n",
            "Making prediction for  Digital Academic English Writing\n",
            "Making prediction for  Diplomacy\n",
            "Making prediction for  Earth Environment and Human Society\n",
            "Making prediction for  Economics\n",
            "Making prediction for  Electrodynamics (A)\n",
            "Making prediction for  Electromagnetism\n",
            "Making prediction for  Engineering Drawing\n",
            "Making prediction for  English  and  American  Drama  and  Film\n",
            "Making prediction for  English Classics Through Films\n",
            "Making prediction for  English Listening and Speaking Skills\n",
            "Making prediction for  English Reading\n",
            "Making prediction for  English Reading B\n",
            "Making prediction for  English Through Western Culture\n",
            "Making prediction for  English Words in Culture Context\n",
            "Making prediction for  Entrance Education Course for Freshstudents\n",
            "Making prediction for  Equilibrium Statistical Physics\n",
            "Making prediction for  Events and Policies \n",
            "Making prediction for  Fascinating Chemistry\n",
            "Making prediction for  Financial Accounting B\n",
            "Making prediction for  Financial Reporting System\n",
            "Making prediction for  Fitness\n",
            "Making prediction for  Fitness and Bodybuilding\n",
            "Making prediction for  Floorball\n",
            "Making prediction for  Football\n",
            "Making prediction for  Foundations of Computer Application\n",
            "Making prediction for  French for Reading from scratch\n",
            "Making prediction for  Freshman Seminar on General\n",
            "Making prediction for  Fundamental Astronomy\n",
            "Making prediction for  Fundamentals of Electronic Circuits and Experiments (1)\n",
            "Making prediction for  Fundamentals of Life Chemistry\n",
            "Making prediction for  General Biology\n",
            "Making prediction for  General Biology (B)\n",
            "Making prediction for  General Biology Lab\n",
            "Making prediction for  General Chemistry\n",
            "Making prediction for  General Chemistry (B)\n",
            "Making prediction for  General Chemistry Lab.（B）\n",
            "Making prediction for  General Chemistry Laboratory\n",
            "Making prediction for  General Introduction to Journalism & Communications\n",
            "Making prediction for  General Physics\n",
            "Making prediction for  General Physics (1)\n",
            "Making prediction for  General Physics (2)\n",
            "Making prediction for  General Physics Lab (1)\n",
            "Making prediction for  General Physics Lab (2)\n",
            "Making prediction for  General Psychology\n",
            "Making prediction for  General Survey of American History\n",
            "Making prediction for  Geometry\n",
            "Making prediction for  Health Care in Traditional Chinese Medicine\n",
            "Making prediction for  History of  Western Literary Theory\n",
            "Making prediction for  History of Ancient Greece and Rome\n",
            "Making prediction for  History of Art\n",
            "Making prediction for  History of Classical Chinese Literature (I)\n",
            "Making prediction for  History of Classical Chinese Literature (II)\n",
            "Making prediction for  History of Classical Chinese Literature (III)\n",
            "Making prediction for  History of Classical Chinese Literature (IV)\n",
            "Making prediction for  History of Europe\n",
            "Making prediction for  History of Foreign Relations of China\n",
            "Making prediction for  History of International Relations (II)\n",
            "Making prediction for  History of Western Fine Arts\n",
            "Making prediction for  History of Western Opera and Masterpieces\n",
            "Making prediction for  History of Western Political Thought I\n",
            "Making prediction for  Human Sex, Reproduction and Health\n",
            "Making prediction for  Important Documents in American History: A Selected Reading \n",
            "Making prediction for  Instrumental Analysis\n",
            "Making prediction for  Instrumental Analysis Lab.\n",
            "Making prediction for  Inter-cultural Communication\n",
            "Making prediction for  International Organization and International Law\n",
            "Making prediction for  Internet Communication\n",
            "Making prediction for  Introduction to Advertising\n",
            "Making prediction for  Introduction to American Culture\n",
            "Making prediction for  Introduction to Artificial Intelligence\n",
            "Making prediction for  Introduction to Computation (A)\n",
            "Making prediction for  Introduction to Computation (B)\n",
            "Making prediction for  Introduction to Computer Systems\n",
            "Making prediction for  Introduction to Computing\n",
            "Making prediction for  Introduction to Cultural Industries\n",
            "Making prediction for  Introduction to Earth Sciences (Fundamentals of Geospatial Information Science)\n",
            "Making prediction for  Introduction to Earth Sciences（Geophysics and Space Physics）\n",
            "Making prediction for  Introduction to English and American Drama\n",
            "Making prediction for  Introduction to Fine Arts\n",
            "Making prediction for  Introduction to Folk Literature\n",
            "Making prediction for  Introduction to Information Science and Technique\n",
            "Making prediction for  Introduction to International Politics\n",
            "Making prediction for  Introduction to Law\n",
            "Making prediction for  Introduction to Logic\n",
            "Making prediction for  Introduction to Modern Engineering\n",
            "Making prediction for  Introduction to National Security\n",
            "Making prediction for  Introduction to Philosophy\n",
            "Making prediction for  Introduction to Psychological Health\n",
            "Making prediction for  Introduction to Psychology\n",
            "Making prediction for  Introduction to Seismology\n",
            "Making prediction for  Introduction to Sociology\n",
            "Making prediction for  Introduction to computing （C）\n",
            "Making prediction for  Introduction to linguistics\n",
            "Making prediction for  Introduction to new media\n",
            "Making prediction for  Introduction to the History of Western Civilization\n",
            "Making prediction for  Jingyuan Academic Report\n",
            "Making prediction for  Journalism Theories\n",
            "Making prediction for  Jurisprudence[JM]\n",
            "Making prediction for  Kendo\n",
            "Making prediction for  Law of Insurance\n",
            "Making prediction for  Law of Obligations\n",
            "Making prediction for  Lectures on The Frontiers of Modern Physics (Ⅰ)\n",
            "Making prediction for  Lesson One in Guanghua\n",
            "Making prediction for  Linear Algebra (B)\n",
            "Making prediction for  Linear Algebra and Geometry\n",
            "Making prediction for  Macro-Economics\n",
            "Making prediction for  Macro-economics\n",
            "Making prediction for  Marketing\n",
            "Making prediction for  Mathematical Analysis (I)\n",
            "Making prediction for  Mathematical Analysis (II)\n",
            "Making prediction for  Mathematical Analysis (III)\n",
            "Making prediction for  Mechanics\n",
            "Making prediction for  Media Management\n",
            "Making prediction for  Media and Social Transformation\n",
            "Making prediction for  Mental Health for College Students\n",
            "Making prediction for  Methods of Mathematical Physics (1)\n",
            "Making prediction for  Methods of Mathematical Physics (2)\n",
            "Making prediction for  Methods of Social Survey and Social Research\n",
            "Making prediction for  Microecomomics\n",
            "Making prediction for  Microeconomics\n",
            "Making prediction for  Military Theory\n",
            "Making prediction for  Modern Chinese Language (I)\n",
            "Making prediction for  Modern Chinese Language (II)\n",
            "Making prediction for  Modern Physics\n",
            "Making prediction for  Music and Mathematics\n",
            "Making prediction for  Natural Resources and Social Development\n",
            "Making prediction for  Nuclear Science and Human Subsistence and Development\n",
            "Making prediction for  Optics\n",
            "Making prediction for  Ordinary Differential Equations\n",
            "Making prediction for  Organic Chemistry (B)\n",
            "Making prediction for  Organic Chemistry (I)\n",
            "Making prediction for  Organic Chemistry (II)\n",
            "Making prediction for  Organic Chemistry Lab. (I+II)\n",
            "Making prediction for  Organic Chemistry Lab.(B)\n",
            "Making prediction for  Organic Chemistry Laboratory\n",
            "Making prediction for  Organization and Management\n",
            "Making prediction for  Orienteering and Hiking\n",
            "Making prediction for  Outline of Chinese Modern History\n",
            "Making prediction for  Physical Chemistry Lab.\n",
            "Making prediction for  Physical Chemistry（II）\n",
            "Making prediction for  Physical Chemistry（I）\n",
            "Making prediction for  Physics for Information Sciences (1)\n",
            "Making prediction for  Physics for Information Sciences (2)\n",
            "Making prediction for  Physiology\n",
            "Making prediction for  Physiology Lab.\n",
            "Making prediction for  Political Economics (I)\n",
            "Making prediction for  Political Economics (II）\n",
            "Making prediction for  Political Institutions in Ancient China\n",
            "Making prediction for  Politics and Culture in Traditional China\n",
            "Making prediction for  Politics of International Economic Relations\n",
            "Making prediction for  Politics, Economy and Foreign Affairs of Northeast-asian Countries\n",
            "Making prediction for  Politics, Economy and Foreign Affairs of The United States\n",
            "Making prediction for  Practical English Writing\n",
            "Making prediction for  Practice of Programming in C&C++\n",
            "Making prediction for  Principle of Economics (II)\n",
            "Making prediction for  Principles of  Arts\n",
            "Making prediction for  Principles of Civil Law\n",
            "Making prediction for  Principles of Criminal Law\n",
            "Making prediction for  Principles of Economics\n",
            "Making prediction for  Principles of Economics (I)\n",
            "Making prediction for  Principles of Literature\n",
            "Making prediction for  Principles of Politics\n",
            "Making prediction for  Probability Statistics\n",
            "Making prediction for  Probability Theory\n",
            "Making prediction for  Probability Theory and Statistics (B)\n",
            "Making prediction for  Property Law\n",
            "Making prediction for  Psychological Statistics (1)\n",
            "Making prediction for  Public Service\n",
            "Making prediction for  Python Programming and Application\n",
            "Making prediction for  Quantitative Chemical Analysis\n",
            "Making prediction for  Quantitative Chemical Analysis Lab\n",
            "Making prediction for  Quantum Mechanics (A)\n",
            "Making prediction for  Real Variable Function\n",
            "Making prediction for  Rhetoric in Chinese\n",
            "Making prediction for  Safety in Chemical Laboratories\n",
            "Making prediction for  Selected Readings  in Anglo-American Prose\n",
            "Making prediction for  Selected Readings from \"Lun Yu\"\n",
            "Making prediction for  Selected Readings from \"Meng Zi\"\n",
            "Making prediction for  Selected Readings from British & American Newspapers & Magazines\n",
            "Making prediction for  Selected Readings in Chinese History (1)\n",
            "Making prediction for  Selected Readings in Chinese History (2)\n",
            "Making prediction for  Selective Readings in Western Civilization\n",
            "Making prediction for  Set Theory and Graph Theory\n",
            "Making prediction for  Shape\n",
            "Making prediction for  Simplified quantum mechanics \n",
            "Making prediction for  Sino-Soviet Relations and Its Effects on Chinese Social Development\n",
            "Making prediction for  Social Psychology Analysis\n",
            "Making prediction for  Social Science Methodology\n",
            "Making prediction for  Social practice and service learning\n",
            "Making prediction for  Social practice and service learning, Part I\n",
            "Making prediction for  Social practice and service learning, Part II\n",
            "Making prediction for  Space Exploring\n",
            "Making prediction for  Special Part of Criminal Law\n",
            "Making prediction for  Structural Chemistry\n",
            "Making prediction for  Study on Foreignl Relations of PRC\n",
            "Making prediction for  Swimming\n",
            "Making prediction for  Table Tennis\n",
            "Making prediction for  Taekwondo\n",
            "Making prediction for  Taiji\n",
            "Making prediction for  Taiji and Health Preserving through Chinese Characters\n",
            "Making prediction for  Tennis\n",
            "Making prediction for  The Civilizations of The Ancient Orient\n",
            "Making prediction for  The Comparative Politics\n",
            "Making prediction for  The Econometrics\n",
            "Making prediction for  The Enjoyment of The Western Music\n",
            "Making prediction for  The Historical Geography of China\n",
            "Making prediction for  The History of Chinese Modern Literature\n",
            "Making prediction for  The History of Chinese Painting\n",
            "Making prediction for  The History of Chinese Sociology\n",
            "Making prediction for  The Monetary Banking\n",
            "Making prediction for  The Outline of Chinese Politics\n",
            "Making prediction for  The Thinking of Sociology of Education\n",
            "Making prediction for  The ethics and regulations of Communication and Media\n",
            "Making prediction for  Theoretical Mechanics\n",
            "Making prediction for  Theoretical Mechanics (A)\n",
            "Making prediction for  Theories of International Relations\n",
            "Making prediction for  Theories of Mediated Communication\n",
            "Making prediction for  Thermal Physics\n",
            "Making prediction for  Topics on Chinese Economy\n",
            "Making prediction for  Traditional British Poetry\n",
            "Making prediction for  Translation and Reading of Classics\n",
            "Making prediction for  Trends of Chinese Popular Music\n",
            "Making prediction for  U.S. Government\n",
            "Making prediction for  University-level Chinese\n",
            "Making prediction for  Volleyball\n",
            "Making prediction for  Western Sociological Theory(Part 1)\n",
            "Making prediction for  Western Sociological Theory(Part 2)\n",
            "Making prediction for  World Film History\n",
            "Making prediction for  Wotu Program\n",
            "Making prediction for  Year-End Thesis\n",
            "Making prediction for  Yoga\n",
            "Making prediction for  cycling education\n"
          ]
        }
      ]
    },
    {
      "cell_type": "code",
      "source": [
        "def recommendation(score):\n",
        "    if score >= 70:\n",
        "      return 1\n",
        "    else:\n",
        "      return 0"
      ],
      "metadata": {
        "id": "RXtjVVypZJ58"
      },
      "execution_count": 84,
      "outputs": []
    },
    {
      "cell_type": "code",
      "source": [
        "y_true = []\n",
        "y_pred = []\n",
        "for course, ratings in test_matrix.iterrows():\n",
        "    for student_index, rating in ratings.items():\n",
        "        if not pd.isnull(rating):  # Predict missing values only\n",
        "\n",
        "            y_true.append(recommendation(test_matrix.at[course, student_index]))\n",
        "            y_pred.append(recommendation(preidcted_matrix.at[course, student_index]))\n",
        "\n",
        "y_true = np.array(y_true)\n",
        "y_pred = np.array(y_pred)\n",
        "\n",
        "num_correct = np.sum(y_true == y_pred)\n",
        "\n",
        "accuracy = num_correct / len(y_true)"
      ],
      "metadata": {
        "id": "hKB-d8x_dRMY"
      },
      "execution_count": null,
      "outputs": []
    },
    {
      "cell_type": "code",
      "source": [
        "import matplotlib.pyplot as plt\n",
        "import seaborn as sns\n",
        "from sklearn.metrics import confusion_matrix\n",
        "\n",
        "cm = confusion_matrix(y_true, y_pred)\n",
        "cm_reordered = np.array([[cm[1, 1], cm[1, 0]], [cm[0, 1], cm[0, 0]]])\n",
        "\n",
        "# Visualize the rearranged confusion matrix using a heatmap\n",
        "plt.figure(figsize=(5, 4))\n",
        "sns.heatmap(cm_reordered, annot=True, cmap='Blues', fmt='d', xticklabels=['Predicted 1', 'Predicted 0'], yticklabels=['Actual 1', 'Actual 0'])\n",
        "plt.xlabel('Predicted')\n",
        "plt.ylabel('Actual')\n",
        "plt.title('Confusion Matrix (TP in Top-Left)')\n",
        "plt.show()"
      ],
      "metadata": {
        "colab": {
          "base_uri": "https://localhost:8080/",
          "height": 410
        },
        "id": "xFKK9wtLZKB7",
        "outputId": "6b36f00a-84aa-4d60-abb1-758be3ff52fd"
      },
      "execution_count": 87,
      "outputs": [
        {
          "output_type": "display_data",
          "data": {
            "text/plain": [
              "<Figure size 500x400 with 2 Axes>"
            ],
            "image/png": "[encoded data removed]"
          },
          "metadata": {}
        }
      ]
    },
    {
      "cell_type": "code",
      "source": [
        "accuracy"
      ],
      "metadata": {
        "colab": {
          "base_uri": "https://localhost:8080/"
        },
        "id": "EMU7ULE9ZKEW",
        "outputId": "0b50a9be-1e07-4593-87e5-89dd8264ea27"
      },
      "execution_count": 86,
      "outputs": [
        {
          "output_type": "execute_result",
          "data": {
            "text/plain": [
              "0.7648290300069783"
            ]
          },
          "metadata": {},
          "execution_count": 86
        }
      ]
    }
  ]
}