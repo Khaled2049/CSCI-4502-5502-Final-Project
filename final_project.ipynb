{
 "cells": [
  {
   "cell_type": "markdown",
   "id": "ef1e1985",
   "metadata": {},
   "source": [
    "# Hybrid content based filter to reccomend classes to college students\n",
    "## By: Khaled Hossain, Jahoon Koo, Carter Andrew, Jusung Kim\n",
    "### 7/27/23\n",
    "References: \n",
    "1. https://medium.com/grabngoinfo/recommendation-system-user-based-collaborative-filtering-a2e76e3e15c4\n",
    "2. https://journals.plos.org/plosone/article?id=10.1371/journal.pone.0284687\n",
    "3. https://www.diva-portal.org/smash/get/diva2:1111865/FULLTEXT01.pdf\n",
    "4. https://www.sciencedirect.com/science/article/pii/S1877050918302424\n",
    "5. https://dl.acm.org/doi/10.1145/3460620.3460744\n",
    "6. https://medium.com/analytics-vidhya/7-types-of-hybrid-recommendation-system-3e4f78266ad8"
   ]
  },
  {
   "cell_type": "code",
   "execution_count": 1,
   "id": "1ab6a17e",
   "metadata": {},
   "outputs": [],
   "source": [
    "import pandas as pd\n",
    "import numpy as np\n",
    "import scipy as sp\n",
    "\n",
    "import seaborn as sns\n",
    "import matplotlib.pyplot as plt\n",
    "\n",
    "from sklearn.feature_extraction.text import CountVectorizer, TfidfVectorizer\n",
    "from sklearn.metrics.pairwise import cosine_similarity, linear_kernel\n",
    "\n",
    "import sys"
   ]
  },
  {
   "cell_type": "markdown",
   "id": "c5fcae2f",
   "metadata": {},
   "source": [
    "### Our datasets:\n",
    "We pulled our data from https://journals.plos.org/plosone/article?id=10.1371/journal.pone.0284687. This is a compiled list of course enrollments from Peking University between 2014 to 2021. The data sets comprise 4568 students, 5591 courses, and a total of 208949 course enrollments\n"
   ]
  },
  {
   "cell_type": "code",
   "execution_count": 3,
   "id": "f161881c",
   "metadata": {},
   "outputs": [],
   "source": [
    "student_data = pd.read_excel(\"dataset/StudentInformationTable.xlsx\")\n",
    "course_data = pd.read_excel(\"dataset/CourseInformationTable.xlsx\")\n",
    "career_data = pd.read_excel(\"dataset/CourseSelectionTable.xlsx\")"
   ]
  },
  {
   "cell_type": "code",
   "execution_count": null,
   "id": "54f8a32f",
   "metadata": {},
   "outputs": [],
   "source": [
    "display(student_data.describe())\n",
    "display(student_data.head(5))"
   ]
  },
  {
   "cell_type": "code",
   "execution_count": null,
   "id": "0b0b2cbe",
   "metadata": {},
   "outputs": [],
   "source": [
    "display(course_data.describe())\n",
    "display(course_data.head(5))"
   ]
  },
  {
   "cell_type": "code",
   "execution_count": null,
   "id": "e2f56e75",
   "metadata": {},
   "outputs": [],
   "source": [
    "display(career_data.describe())\n",
    "display(career_data.head(5))"
   ]
  }
 ],
 "metadata": {
  "kernelspec": {
   "display_name": "ml",
   "language": "python",
   "name": "python3"
  },
  "language_info": {
   "codemirror_mode": {
    "name": "ipython",
    "version": 3
   },
   "file_extension": ".py",
   "mimetype": "text/x-python",
   "name": "python",
   "nbconvert_exporter": "python",
   "pygments_lexer": "ipython3",
   "version": "3.11.4"
  }
 },
 "nbformat": 4,
 "nbformat_minor": 5
}
